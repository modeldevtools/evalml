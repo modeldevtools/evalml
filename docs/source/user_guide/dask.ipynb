{
 "cells": [
  {
   "cell_type": "markdown",
   "metadata": {},
   "source": [
    "# Accelerating Pipeline Search with Dask (Beta)"
   ]
  },
  {
   "cell_type": "markdown",
   "metadata": {},
   "source": [
    "## Default AutoML Search\n",
    "By default, the EvalML AutoML search process will evaluate generated pipelines one at a time. For most modern multicore systems, this does not allow for the most straightforward system. \n",
    "\n",
    "\n",
    "## The Dask Engine\n",
    "\n",
    "[Dask](https://dask.org/) is a parallel computing library for Python. One of the major benefits of using Dask is the ability to scale up computation from a local laptop all the way to a cluster. As such, it is currently the preferred method accelerating the EvalML search process.  \n",
    "\n",
    "Through the use of the Engines API, EvalML provides the ability to scale out the pipeline search to multiple workers. For more information about the Engines API and how to create your own engine, see the documentation. \n",
    "\n",
    "## Quick Start Example\n",
    "The easiest way to enable EvalML to evalute pipelines locally is to create a new `DaskEngine`. By default, this will create a local Dask cluster with 4 workers. "
   ]
  },
  {
   "cell_type": "code",
   "execution_count": null,
   "metadata": {},
   "outputs": [],
   "source": [
    "from evalml.automl.engines import DaskEngine\n",
    "dask_engine = DaskEngine()"
   ]
  },
  {
   "cell_type": "markdown",
   "metadata": {},
   "source": [
    "After setting up the AutoML search, pass in the engine object into search. In the output, the \n",
    "\n",
    "During the search process, `AutoMLSearch` will send each pipeline batch to `dask_engine`, which will then map each pipeline to a Dask worker. "
   ]
  },
  {
   "cell_type": "code",
   "execution_count": null,
   "metadata": {},
   "outputs": [],
   "source": [
    "from evalml import AutoMLSearch\n",
    "\n",
    "X, y = evalml.demos.load_breast_cancer()\n",
    "X_train, X_holdout, y_train, y_holdout = evalml.preprocessing.split_data(X, y, test_size=.8)\n",
    "\n",
    "automl = AutoMLSearch(problem_type=\"binary\", objective=\"f1\", max_batches=2)\n",
    "automl.search(X_train, y_train, engine=dask_engine)"
   ]
  },
  {
   "cell_type": "markdown",
   "metadata": {},
   "source": [
    "## Specifying Your Own Dask Client\n",
    "`DaskEngine` has the ability to take in a Dask `Client`. This allows for specifying custom settings such as the number of workers. Dask clients can also point to a remote cluster for processing as well. See the [Dask documentation](https://distributed.dask.org/en/latest/client.html) for more details.     \n",
    "\n",
    "\n",
    "## Dask Engine Limitations\n",
    "- As the pipelines are evaluated and the results are reported to the tuner in an asyncronous manner, the search process is not guaranteed to be determinisitc even for the same \n",
    "\n",
    "## Tips for Optimizing Parallel Search Performance\n",
    "- Be careful not to create too many Dask workers. A good rule of thumb is to create as many workers as cores on your local machine.\n",
    "- The Dask Engine works best with longer searches and larger datasets. "
   ]
  }
 ],
 "metadata": {
  "kernelspec": {
   "display_name": "Python 3",
   "language": "python",
   "name": "python3"
  },
  "language_info": {
   "codemirror_mode": {
    "name": "ipython",
    "version": 3
   },
   "file_extension": ".py",
   "mimetype": "text/x-python",
   "name": "python",
   "nbconvert_exporter": "python",
   "pygments_lexer": "ipython3",
   "version": "3.8.5"
  }
 },
 "nbformat": 4,
 "nbformat_minor": 4
}
